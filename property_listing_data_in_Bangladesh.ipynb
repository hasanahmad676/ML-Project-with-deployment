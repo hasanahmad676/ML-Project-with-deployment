{
  "nbformat": 4,
  "nbformat_minor": 0,
  "metadata": {
    "colab": {
      "provenance": []
    },
    "kernelspec": {
      "name": "python3",
      "display_name": "Python 3"
    },
    "language_info": {
      "name": "python"
    }
  },
  "cells": [
    {
      "cell_type": "code",
      "execution_count": 30,
      "metadata": {
        "id": "NQVsuZqxHlVx"
      },
      "outputs": [],
      "source": [
        "import pandas as pd \n",
        "import numpy as np\n",
        "import matplotlib.pyplot as plt\n",
        "import seaborn as sns"
      ]
    },
    {
      "cell_type": "code",
      "source": [
        "df=pd.read_csv(\"/content/property_listing_data_in_Bangladesh.csv\")"
      ],
      "metadata": {
        "id": "shuM-cV3Hr5E"
      },
      "execution_count": 31,
      "outputs": []
    },
    {
      "cell_type": "code",
      "source": [
        "df.head()"
      ],
      "metadata": {
        "colab": {
          "base_uri": "https://localhost:8080/",
          "height": 600
        },
        "id": "N8c3g3HMHr8f",
        "outputId": "3fe28902-f9ad-4362-fee3-029736d3257f"
      },
      "execution_count": 32,
      "outputs": [
        {
          "output_type": "execute_result",
          "data": {
            "text/plain": [
              "                                               title beds bath        area  \\\n",
              "0  To Get A Trouble Free Life You Can Take Rent T...    3    3  1,500 sqft   \n",
              "1  Visit This 1400 Square Feet Apartment Which Is...    4    3         NaN   \n",
              "2  1500 Sq Ft Apartment Is Up For Rent In Bashund...    3    3  1,850 sqft   \n",
              "3  1,500 sft Ready Flat For Rent In Bashundhara R...    3    3  1,850 sqft   \n",
              "4  Apartment For Rent In Uttara - Own This Promin...    3    3  1,500 sqft   \n",
              "\n",
              "                                       adress       type   purpose  \\\n",
              "0     Priyanka City, Sector 12, Uttara, Dhaka  Apartment  For Rent   \n",
              "1  Modhubag, Boro Maghbazar, Maghbazar, Dhaka  Apartment  For Rent   \n",
              "2             Block G, Bashundhara R-A, Dhaka  Apartment  For Rent   \n",
              "3             Block G, Bashundhara R-A, Dhaka  Apartment  For Rent   \n",
              "4                     Sector 5, Uttara, Dhaka  Apartment  For Rent   \n",
              "\n",
              "                                            flooPlan  \\\n",
              "0  https://images-cdn.bproperty.com/thumbnails/15...   \n",
              "1  https://images-cdn.bproperty.com/thumbnails/1-...   \n",
              "2  https://images-cdn.bproperty.com/thumbnails/15...   \n",
              "3  https://images-cdn.bproperty.com/thumbnails/15...   \n",
              "4  https://images-cdn.bproperty.com/thumbnails/15...   \n",
              "\n",
              "                                                 url     lastUpdated  \\\n",
              "0  https://www.bproperty.com/en/property/details-...   July 29, 2022   \n",
              "1  https://www.bproperty.com/en/property/details-...  August 8, 2021   \n",
              "2  https://www.bproperty.com/en/property/details-...   July 20, 2022   \n",
              "3  https://www.bproperty.com/en/property/details-...   July 20, 2022   \n",
              "4  https://www.bproperty.com/en/property/details-...  March 18, 2022   \n",
              "\n",
              "         price  \n",
              "0  30 Thousand  \n",
              "1  22 Thousand  \n",
              "2  35 Thousand  \n",
              "3  35 Thousand  \n",
              "4  30 Thousand  "
            ],
            "text/html": [
              "\n",
              "  <div id=\"df-c1c68b07-5c33-4d93-a3e1-2f0a056434cd\">\n",
              "    <div class=\"colab-df-container\">\n",
              "      <div>\n",
              "<style scoped>\n",
              "    .dataframe tbody tr th:only-of-type {\n",
              "        vertical-align: middle;\n",
              "    }\n",
              "\n",
              "    .dataframe tbody tr th {\n",
              "        vertical-align: top;\n",
              "    }\n",
              "\n",
              "    .dataframe thead th {\n",
              "        text-align: right;\n",
              "    }\n",
              "</style>\n",
              "<table border=\"1\" class=\"dataframe\">\n",
              "  <thead>\n",
              "    <tr style=\"text-align: right;\">\n",
              "      <th></th>\n",
              "      <th>title</th>\n",
              "      <th>beds</th>\n",
              "      <th>bath</th>\n",
              "      <th>area</th>\n",
              "      <th>adress</th>\n",
              "      <th>type</th>\n",
              "      <th>purpose</th>\n",
              "      <th>flooPlan</th>\n",
              "      <th>url</th>\n",
              "      <th>lastUpdated</th>\n",
              "      <th>price</th>\n",
              "    </tr>\n",
              "  </thead>\n",
              "  <tbody>\n",
              "    <tr>\n",
              "      <th>0</th>\n",
              "      <td>To Get A Trouble Free Life You Can Take Rent T...</td>\n",
              "      <td>3</td>\n",
              "      <td>3</td>\n",
              "      <td>1,500 sqft</td>\n",
              "      <td>Priyanka City, Sector 12, Uttara, Dhaka</td>\n",
              "      <td>Apartment</td>\n",
              "      <td>For Rent</td>\n",
              "      <td>https://images-cdn.bproperty.com/thumbnails/15...</td>\n",
              "      <td>https://www.bproperty.com/en/property/details-...</td>\n",
              "      <td>July 29, 2022</td>\n",
              "      <td>30 Thousand</td>\n",
              "    </tr>\n",
              "    <tr>\n",
              "      <th>1</th>\n",
              "      <td>Visit This 1400 Square Feet Apartment Which Is...</td>\n",
              "      <td>4</td>\n",
              "      <td>3</td>\n",
              "      <td>NaN</td>\n",
              "      <td>Modhubag, Boro Maghbazar, Maghbazar, Dhaka</td>\n",
              "      <td>Apartment</td>\n",
              "      <td>For Rent</td>\n",
              "      <td>https://images-cdn.bproperty.com/thumbnails/1-...</td>\n",
              "      <td>https://www.bproperty.com/en/property/details-...</td>\n",
              "      <td>August 8, 2021</td>\n",
              "      <td>22 Thousand</td>\n",
              "    </tr>\n",
              "    <tr>\n",
              "      <th>2</th>\n",
              "      <td>1500 Sq Ft Apartment Is Up For Rent In Bashund...</td>\n",
              "      <td>3</td>\n",
              "      <td>3</td>\n",
              "      <td>1,850 sqft</td>\n",
              "      <td>Block G, Bashundhara R-A, Dhaka</td>\n",
              "      <td>Apartment</td>\n",
              "      <td>For Rent</td>\n",
              "      <td>https://images-cdn.bproperty.com/thumbnails/15...</td>\n",
              "      <td>https://www.bproperty.com/en/property/details-...</td>\n",
              "      <td>July 20, 2022</td>\n",
              "      <td>35 Thousand</td>\n",
              "    </tr>\n",
              "    <tr>\n",
              "      <th>3</th>\n",
              "      <td>1,500 sft Ready Flat For Rent In Bashundhara R...</td>\n",
              "      <td>3</td>\n",
              "      <td>3</td>\n",
              "      <td>1,850 sqft</td>\n",
              "      <td>Block G, Bashundhara R-A, Dhaka</td>\n",
              "      <td>Apartment</td>\n",
              "      <td>For Rent</td>\n",
              "      <td>https://images-cdn.bproperty.com/thumbnails/15...</td>\n",
              "      <td>https://www.bproperty.com/en/property/details-...</td>\n",
              "      <td>July 20, 2022</td>\n",
              "      <td>35 Thousand</td>\n",
              "    </tr>\n",
              "    <tr>\n",
              "      <th>4</th>\n",
              "      <td>Apartment For Rent In Uttara - Own This Promin...</td>\n",
              "      <td>3</td>\n",
              "      <td>3</td>\n",
              "      <td>1,500 sqft</td>\n",
              "      <td>Sector 5, Uttara, Dhaka</td>\n",
              "      <td>Apartment</td>\n",
              "      <td>For Rent</td>\n",
              "      <td>https://images-cdn.bproperty.com/thumbnails/15...</td>\n",
              "      <td>https://www.bproperty.com/en/property/details-...</td>\n",
              "      <td>March 18, 2022</td>\n",
              "      <td>30 Thousand</td>\n",
              "    </tr>\n",
              "  </tbody>\n",
              "</table>\n",
              "</div>\n",
              "      <button class=\"colab-df-convert\" onclick=\"convertToInteractive('df-c1c68b07-5c33-4d93-a3e1-2f0a056434cd')\"\n",
              "              title=\"Convert this dataframe to an interactive table.\"\n",
              "              style=\"display:none;\">\n",
              "        \n",
              "  <svg xmlns=\"http://www.w3.org/2000/svg\" height=\"24px\"viewBox=\"0 0 24 24\"\n",
              "       width=\"24px\">\n",
              "    <path d=\"M0 0h24v24H0V0z\" fill=\"none\"/>\n",
              "    <path d=\"M18.56 5.44l.94 2.06.94-2.06 2.06-.94-2.06-.94-.94-2.06-.94 2.06-2.06.94zm-11 1L8.5 8.5l.94-2.06 2.06-.94-2.06-.94L8.5 2.5l-.94 2.06-2.06.94zm10 10l.94 2.06.94-2.06 2.06-.94-2.06-.94-.94-2.06-.94 2.06-2.06.94z\"/><path d=\"M17.41 7.96l-1.37-1.37c-.4-.4-.92-.59-1.43-.59-.52 0-1.04.2-1.43.59L10.3 9.45l-7.72 7.72c-.78.78-.78 2.05 0 2.83L4 21.41c.39.39.9.59 1.41.59.51 0 1.02-.2 1.41-.59l7.78-7.78 2.81-2.81c.8-.78.8-2.07 0-2.86zM5.41 20L4 18.59l7.72-7.72 1.47 1.35L5.41 20z\"/>\n",
              "  </svg>\n",
              "      </button>\n",
              "      \n",
              "  <style>\n",
              "    .colab-df-container {\n",
              "      display:flex;\n",
              "      flex-wrap:wrap;\n",
              "      gap: 12px;\n",
              "    }\n",
              "\n",
              "    .colab-df-convert {\n",
              "      background-color: #E8F0FE;\n",
              "      border: none;\n",
              "      border-radius: 50%;\n",
              "      cursor: pointer;\n",
              "      display: none;\n",
              "      fill: #1967D2;\n",
              "      height: 32px;\n",
              "      padding: 0 0 0 0;\n",
              "      width: 32px;\n",
              "    }\n",
              "\n",
              "    .colab-df-convert:hover {\n",
              "      background-color: #E2EBFA;\n",
              "      box-shadow: 0px 1px 2px rgba(60, 64, 67, 0.3), 0px 1px 3px 1px rgba(60, 64, 67, 0.15);\n",
              "      fill: #174EA6;\n",
              "    }\n",
              "\n",
              "    [theme=dark] .colab-df-convert {\n",
              "      background-color: #3B4455;\n",
              "      fill: #D2E3FC;\n",
              "    }\n",
              "\n",
              "    [theme=dark] .colab-df-convert:hover {\n",
              "      background-color: #434B5C;\n",
              "      box-shadow: 0px 1px 3px 1px rgba(0, 0, 0, 0.15);\n",
              "      filter: drop-shadow(0px 1px 2px rgba(0, 0, 0, 0.3));\n",
              "      fill: #FFFFFF;\n",
              "    }\n",
              "  </style>\n",
              "\n",
              "      <script>\n",
              "        const buttonEl =\n",
              "          document.querySelector('#df-c1c68b07-5c33-4d93-a3e1-2f0a056434cd button.colab-df-convert');\n",
              "        buttonEl.style.display =\n",
              "          google.colab.kernel.accessAllowed ? 'block' : 'none';\n",
              "\n",
              "        async function convertToInteractive(key) {\n",
              "          const element = document.querySelector('#df-c1c68b07-5c33-4d93-a3e1-2f0a056434cd');\n",
              "          const dataTable =\n",
              "            await google.colab.kernel.invokeFunction('convertToInteractive',\n",
              "                                                     [key], {});\n",
              "          if (!dataTable) return;\n",
              "\n",
              "          const docLinkHtml = 'Like what you see? Visit the ' +\n",
              "            '<a target=\"_blank\" href=https://colab.research.google.com/notebooks/data_table.ipynb>data table notebook</a>'\n",
              "            + ' to learn more about interactive tables.';\n",
              "          element.innerHTML = '';\n",
              "          dataTable['output_type'] = 'display_data';\n",
              "          await google.colab.output.renderOutput(dataTable, element);\n",
              "          const docLink = document.createElement('div');\n",
              "          docLink.innerHTML = docLinkHtml;\n",
              "          element.appendChild(docLink);\n",
              "        }\n",
              "      </script>\n",
              "    </div>\n",
              "  </div>\n",
              "  "
            ]
          },
          "metadata": {},
          "execution_count": 32
        }
      ]
    },
    {
      "cell_type": "code",
      "source": [
        "df.shape"
      ],
      "metadata": {
        "colab": {
          "base_uri": "https://localhost:8080/"
        },
        "id": "K7o044deINvM",
        "outputId": "cf7bf7f7-d4d4-4d3f-c978-6e1b84077145"
      },
      "execution_count": 33,
      "outputs": [
        {
          "output_type": "execute_result",
          "data": {
            "text/plain": [
              "(8294, 11)"
            ]
          },
          "metadata": {},
          "execution_count": 33
        }
      ]
    },
    {
      "cell_type": "code",
      "source": [
        "df.info()"
      ],
      "metadata": {
        "colab": {
          "base_uri": "https://localhost:8080/"
        },
        "id": "KpdoTZ8dIVFN",
        "outputId": "4bc6bfaf-f912-4ab6-bea0-cd0ad667f5e2"
      },
      "execution_count": 34,
      "outputs": [
        {
          "output_type": "stream",
          "name": "stdout",
          "text": [
            "<class 'pandas.core.frame.DataFrame'>\n",
            "RangeIndex: 8294 entries, 0 to 8293\n",
            "Data columns (total 11 columns):\n",
            " #   Column       Non-Null Count  Dtype \n",
            "---  ------       --------------  ----- \n",
            " 0   title        8294 non-null   object\n",
            " 1   beds         8294 non-null   object\n",
            " 2   bath         8294 non-null   object\n",
            " 3   area         5714 non-null   object\n",
            " 4   adress       8294 non-null   object\n",
            " 5   type         8294 non-null   object\n",
            " 6   purpose      8294 non-null   object\n",
            " 7   flooPlan     8275 non-null   object\n",
            " 8   url          8294 non-null   object\n",
            " 9   lastUpdated  8294 non-null   object\n",
            " 10  price        8294 non-null   object\n",
            "dtypes: object(11)\n",
            "memory usage: 712.9+ KB\n"
          ]
        }
      ]
    },
    {
      "cell_type": "code",
      "source": [
        "df.isnull().sum()"
      ],
      "metadata": {
        "colab": {
          "base_uri": "https://localhost:8080/"
        },
        "id": "4_rXv8KgIX4V",
        "outputId": "8761e0f2-a06f-4e43-fcb0-1ff45b6b1bd1"
      },
      "execution_count": 35,
      "outputs": [
        {
          "output_type": "execute_result",
          "data": {
            "text/plain": [
              "title             0\n",
              "beds              0\n",
              "bath              0\n",
              "area           2580\n",
              "adress            0\n",
              "type              0\n",
              "purpose           0\n",
              "flooPlan         19\n",
              "url               0\n",
              "lastUpdated       0\n",
              "price             0\n",
              "dtype: int64"
            ]
          },
          "metadata": {},
          "execution_count": 35
        }
      ]
    },
    {
      "cell_type": "code",
      "source": [
        "df['area'].mode()[0]"
      ],
      "metadata": {
        "colab": {
          "base_uri": "https://localhost:8080/",
          "height": 36
        },
        "id": "Vbrs6lEXIlfk",
        "outputId": "e0cb2ecf-6ba1-4749-e2b7-7604c8268c96"
      },
      "execution_count": 36,
      "outputs": [
        {
          "output_type": "execute_result",
          "data": {
            "text/plain": [
              "'1,500 sqft'"
            ],
            "application/vnd.google.colaboratory.intrinsic+json": {
              "type": "string"
            }
          },
          "metadata": {},
          "execution_count": 36
        }
      ]
    },
    {
      "cell_type": "code",
      "source": [
        "df['area']=df['area'].fillna(df['area'].mode()[0])"
      ],
      "metadata": {
        "id": "a940_K3KI11m"
      },
      "execution_count": 37,
      "outputs": []
    },
    {
      "cell_type": "code",
      "source": [
        "df.isnull().sum()"
      ],
      "metadata": {
        "colab": {
          "base_uri": "https://localhost:8080/"
        },
        "id": "UfuHamcaJCYz",
        "outputId": "100cccc8-5228-48fb-c875-92936c2a25ee"
      },
      "execution_count": 38,
      "outputs": [
        {
          "output_type": "execute_result",
          "data": {
            "text/plain": [
              "title           0\n",
              "beds            0\n",
              "bath            0\n",
              "area            0\n",
              "adress          0\n",
              "type            0\n",
              "purpose         0\n",
              "flooPlan       19\n",
              "url             0\n",
              "lastUpdated     0\n",
              "price           0\n",
              "dtype: int64"
            ]
          },
          "metadata": {},
          "execution_count": 38
        }
      ]
    },
    {
      "cell_type": "code",
      "source": [
        "df['flooPlan'].mode()[0]"
      ],
      "metadata": {
        "colab": {
          "base_uri": "https://localhost:8080/",
          "height": 36
        },
        "id": "XJ4at3nFJRjQ",
        "outputId": "0dd96002-add4-4e3a-e41f-8a6ed82a8b76"
      },
      "execution_count": 39,
      "outputs": [
        {
          "output_type": "execute_result",
          "data": {
            "text/plain": [
              "'https://images-cdn.bproperty.com/thumbnails/2-240x180.webp'"
            ],
            "application/vnd.google.colaboratory.intrinsic+json": {
              "type": "string"
            }
          },
          "metadata": {},
          "execution_count": 39
        }
      ]
    },
    {
      "cell_type": "code",
      "source": [
        "df['flooPlan']=df['flooPlan'].fillna(df['flooPlan'].mode()[0])"
      ],
      "metadata": {
        "id": "g8hyiKXuJ1Dx"
      },
      "execution_count": 40,
      "outputs": []
    },
    {
      "cell_type": "code",
      "source": [
        "df.isnull().sum()"
      ],
      "metadata": {
        "colab": {
          "base_uri": "https://localhost:8080/"
        },
        "id": "hyhgsw4gLJ0C",
        "outputId": "87c68aa8-7d5c-4e19-c901-9d9d61e764a1"
      },
      "execution_count": 41,
      "outputs": [
        {
          "output_type": "execute_result",
          "data": {
            "text/plain": [
              "title          0\n",
              "beds           0\n",
              "bath           0\n",
              "area           0\n",
              "adress         0\n",
              "type           0\n",
              "purpose        0\n",
              "flooPlan       0\n",
              "url            0\n",
              "lastUpdated    0\n",
              "price          0\n",
              "dtype: int64"
            ]
          },
          "metadata": {},
          "execution_count": 41
        }
      ]
    },
    {
      "cell_type": "code",
      "source": [
        "df.describe()"
      ],
      "metadata": {
        "colab": {
          "base_uri": "https://localhost:8080/",
          "height": 326
        },
        "id": "910yY1sRLOHE",
        "outputId": "12c1e0ea-ace5-4743-a1de-b0714b1074a0"
      },
      "execution_count": 42,
      "outputs": [
        {
          "output_type": "execute_result",
          "data": {
            "text/plain": [
              "                                                title  beds  bath        area  \\\n",
              "count                                            8294  8294  8294        8294   \n",
              "unique                                           8220    14     9         123   \n",
              "top     1200 Square Feet Apartment For Rent In Adabor     3     2  1,500 sqft   \n",
              "freq                                                3  4716  3376        3385   \n",
              "\n",
              "                          adress       type   purpose  \\\n",
              "count                       8294       8294      8294   \n",
              "unique                       687          3         1   \n",
              "top     Sector 13, Uttara, Dhaka  Apartment  For Rent   \n",
              "freq                         263       8221      8294   \n",
              "\n",
              "                                                 flooPlan  \\\n",
              "count                                                8294   \n",
              "unique                                               1331   \n",
              "top     https://images-cdn.bproperty.com/thumbnails/2-...   \n",
              "freq                                                 1885   \n",
              "\n",
              "                                                      url    lastUpdated  \\\n",
              "count                                                8294           8294   \n",
              "unique                                               8294            671   \n",
              "top     https://www.bproperty.com/en/property/details-...  March 6, 2020   \n",
              "freq                                                    1            260   \n",
              "\n",
              "              price  \n",
              "count          8294  \n",
              "unique          154  \n",
              "top     15 Thousand  \n",
              "freq            726  "
            ],
            "text/html": [
              "\n",
              "  <div id=\"df-3e2dce30-1030-4e00-ae86-18c683024189\">\n",
              "    <div class=\"colab-df-container\">\n",
              "      <div>\n",
              "<style scoped>\n",
              "    .dataframe tbody tr th:only-of-type {\n",
              "        vertical-align: middle;\n",
              "    }\n",
              "\n",
              "    .dataframe tbody tr th {\n",
              "        vertical-align: top;\n",
              "    }\n",
              "\n",
              "    .dataframe thead th {\n",
              "        text-align: right;\n",
              "    }\n",
              "</style>\n",
              "<table border=\"1\" class=\"dataframe\">\n",
              "  <thead>\n",
              "    <tr style=\"text-align: right;\">\n",
              "      <th></th>\n",
              "      <th>title</th>\n",
              "      <th>beds</th>\n",
              "      <th>bath</th>\n",
              "      <th>area</th>\n",
              "      <th>adress</th>\n",
              "      <th>type</th>\n",
              "      <th>purpose</th>\n",
              "      <th>flooPlan</th>\n",
              "      <th>url</th>\n",
              "      <th>lastUpdated</th>\n",
              "      <th>price</th>\n",
              "    </tr>\n",
              "  </thead>\n",
              "  <tbody>\n",
              "    <tr>\n",
              "      <th>count</th>\n",
              "      <td>8294</td>\n",
              "      <td>8294</td>\n",
              "      <td>8294</td>\n",
              "      <td>8294</td>\n",
              "      <td>8294</td>\n",
              "      <td>8294</td>\n",
              "      <td>8294</td>\n",
              "      <td>8294</td>\n",
              "      <td>8294</td>\n",
              "      <td>8294</td>\n",
              "      <td>8294</td>\n",
              "    </tr>\n",
              "    <tr>\n",
              "      <th>unique</th>\n",
              "      <td>8220</td>\n",
              "      <td>14</td>\n",
              "      <td>9</td>\n",
              "      <td>123</td>\n",
              "      <td>687</td>\n",
              "      <td>3</td>\n",
              "      <td>1</td>\n",
              "      <td>1331</td>\n",
              "      <td>8294</td>\n",
              "      <td>671</td>\n",
              "      <td>154</td>\n",
              "    </tr>\n",
              "    <tr>\n",
              "      <th>top</th>\n",
              "      <td>1200 Square Feet Apartment For Rent In Adabor</td>\n",
              "      <td>3</td>\n",
              "      <td>2</td>\n",
              "      <td>1,500 sqft</td>\n",
              "      <td>Sector 13, Uttara, Dhaka</td>\n",
              "      <td>Apartment</td>\n",
              "      <td>For Rent</td>\n",
              "      <td>https://images-cdn.bproperty.com/thumbnails/2-...</td>\n",
              "      <td>https://www.bproperty.com/en/property/details-...</td>\n",
              "      <td>March 6, 2020</td>\n",
              "      <td>15 Thousand</td>\n",
              "    </tr>\n",
              "    <tr>\n",
              "      <th>freq</th>\n",
              "      <td>3</td>\n",
              "      <td>4716</td>\n",
              "      <td>3376</td>\n",
              "      <td>3385</td>\n",
              "      <td>263</td>\n",
              "      <td>8221</td>\n",
              "      <td>8294</td>\n",
              "      <td>1885</td>\n",
              "      <td>1</td>\n",
              "      <td>260</td>\n",
              "      <td>726</td>\n",
              "    </tr>\n",
              "  </tbody>\n",
              "</table>\n",
              "</div>\n",
              "      <button class=\"colab-df-convert\" onclick=\"convertToInteractive('df-3e2dce30-1030-4e00-ae86-18c683024189')\"\n",
              "              title=\"Convert this dataframe to an interactive table.\"\n",
              "              style=\"display:none;\">\n",
              "        \n",
              "  <svg xmlns=\"http://www.w3.org/2000/svg\" height=\"24px\"viewBox=\"0 0 24 24\"\n",
              "       width=\"24px\">\n",
              "    <path d=\"M0 0h24v24H0V0z\" fill=\"none\"/>\n",
              "    <path d=\"M18.56 5.44l.94 2.06.94-2.06 2.06-.94-2.06-.94-.94-2.06-.94 2.06-2.06.94zm-11 1L8.5 8.5l.94-2.06 2.06-.94-2.06-.94L8.5 2.5l-.94 2.06-2.06.94zm10 10l.94 2.06.94-2.06 2.06-.94-2.06-.94-.94-2.06-.94 2.06-2.06.94z\"/><path d=\"M17.41 7.96l-1.37-1.37c-.4-.4-.92-.59-1.43-.59-.52 0-1.04.2-1.43.59L10.3 9.45l-7.72 7.72c-.78.78-.78 2.05 0 2.83L4 21.41c.39.39.9.59 1.41.59.51 0 1.02-.2 1.41-.59l7.78-7.78 2.81-2.81c.8-.78.8-2.07 0-2.86zM5.41 20L4 18.59l7.72-7.72 1.47 1.35L5.41 20z\"/>\n",
              "  </svg>\n",
              "      </button>\n",
              "      \n",
              "  <style>\n",
              "    .colab-df-container {\n",
              "      display:flex;\n",
              "      flex-wrap:wrap;\n",
              "      gap: 12px;\n",
              "    }\n",
              "\n",
              "    .colab-df-convert {\n",
              "      background-color: #E8F0FE;\n",
              "      border: none;\n",
              "      border-radius: 50%;\n",
              "      cursor: pointer;\n",
              "      display: none;\n",
              "      fill: #1967D2;\n",
              "      height: 32px;\n",
              "      padding: 0 0 0 0;\n",
              "      width: 32px;\n",
              "    }\n",
              "\n",
              "    .colab-df-convert:hover {\n",
              "      background-color: #E2EBFA;\n",
              "      box-shadow: 0px 1px 2px rgba(60, 64, 67, 0.3), 0px 1px 3px 1px rgba(60, 64, 67, 0.15);\n",
              "      fill: #174EA6;\n",
              "    }\n",
              "\n",
              "    [theme=dark] .colab-df-convert {\n",
              "      background-color: #3B4455;\n",
              "      fill: #D2E3FC;\n",
              "    }\n",
              "\n",
              "    [theme=dark] .colab-df-convert:hover {\n",
              "      background-color: #434B5C;\n",
              "      box-shadow: 0px 1px 3px 1px rgba(0, 0, 0, 0.15);\n",
              "      filter: drop-shadow(0px 1px 2px rgba(0, 0, 0, 0.3));\n",
              "      fill: #FFFFFF;\n",
              "    }\n",
              "  </style>\n",
              "\n",
              "      <script>\n",
              "        const buttonEl =\n",
              "          document.querySelector('#df-3e2dce30-1030-4e00-ae86-18c683024189 button.colab-df-convert');\n",
              "        buttonEl.style.display =\n",
              "          google.colab.kernel.accessAllowed ? 'block' : 'none';\n",
              "\n",
              "        async function convertToInteractive(key) {\n",
              "          const element = document.querySelector('#df-3e2dce30-1030-4e00-ae86-18c683024189');\n",
              "          const dataTable =\n",
              "            await google.colab.kernel.invokeFunction('convertToInteractive',\n",
              "                                                     [key], {});\n",
              "          if (!dataTable) return;\n",
              "\n",
              "          const docLinkHtml = 'Like what you see? Visit the ' +\n",
              "            '<a target=\"_blank\" href=https://colab.research.google.com/notebooks/data_table.ipynb>data table notebook</a>'\n",
              "            + ' to learn more about interactive tables.';\n",
              "          element.innerHTML = '';\n",
              "          dataTable['output_type'] = 'display_data';\n",
              "          await google.colab.output.renderOutput(dataTable, element);\n",
              "          const docLink = document.createElement('div');\n",
              "          docLink.innerHTML = docLinkHtml;\n",
              "          element.appendChild(docLink);\n",
              "        }\n",
              "      </script>\n",
              "    </div>\n",
              "  </div>\n",
              "  "
            ]
          },
          "metadata": {},
          "execution_count": 42
        }
      ]
    },
    {
      "cell_type": "code",
      "source": [
        "df.columns"
      ],
      "metadata": {
        "colab": {
          "base_uri": "https://localhost:8080/"
        },
        "id": "5XdBWPFpLoSd",
        "outputId": "f6f9373a-6880-4b7a-a8c2-edf4e068adce"
      },
      "execution_count": 43,
      "outputs": [
        {
          "output_type": "execute_result",
          "data": {
            "text/plain": [
              "Index(['title', 'beds', 'bath', 'area', 'adress', 'type', 'purpose',\n",
              "       'flooPlan', 'url', 'lastUpdated', 'price'],\n",
              "      dtype='object')"
            ]
          },
          "metadata": {},
          "execution_count": 43
        }
      ]
    },
    {
      "cell_type": "code",
      "source": [
        "import pandas as pd\n",
        "from sklearn.preprocessing import LabelEncoder\n",
        "\n",
        "\n",
        "\n",
        "# Select the categorical columns you want to encode\n",
        "categorical_columns = df.columns[0:12]\n",
        "\n",
        "# Initialize the label encoder\n",
        "le = LabelEncoder()\n",
        "\n",
        "# Loop over the categorical columns and perform label encoding on each one\n",
        "for column in categorical_columns:\n",
        "    df[column] = le.fit_transform(df[column])\n",
        "\n",
        "# The transformed columns will now contain numerical values instead of categorical labels\n"
      ],
      "metadata": {
        "id": "y4k2KRfMMxSa"
      },
      "execution_count": 44,
      "outputs": []
    },
    {
      "cell_type": "code",
      "source": [
        "df.head()"
      ],
      "metadata": {
        "colab": {
          "base_uri": "https://localhost:8080/",
          "height": 206
        },
        "id": "x1cQd4eVM3LH",
        "outputId": "5ab78405-25c9-4429-fe1e-623bf29abde7"
      },
      "execution_count": 45,
      "outputs": [
        {
          "output_type": "execute_result",
          "data": {
            "text/plain": [
              "   title  beds  bath  area  adress  type  purpose  flooPlan   url  \\\n",
              "0   7409     8     3    43     513     0        0       792  7187   \n",
              "1   7678    10     3    43     424     0        0         0   792   \n",
              "2    517     8     3    66     213     0        0       768   667   \n",
              "3      3     8     3    66     213     0        0       764   314   \n",
              "4   2748     8     3    43     588     0        0       588  1392   \n",
              "\n",
              "   lastUpdated  price  \n",
              "0          303     95  \n",
              "1           94     73  \n",
              "2          284    101  \n",
              "3          284    101  \n",
              "4          394     95  "
            ],
            "text/html": [
              "\n",
              "  <div id=\"df-8d69fda1-1ca3-4035-982f-d739a5a5d00d\">\n",
              "    <div class=\"colab-df-container\">\n",
              "      <div>\n",
              "<style scoped>\n",
              "    .dataframe tbody tr th:only-of-type {\n",
              "        vertical-align: middle;\n",
              "    }\n",
              "\n",
              "    .dataframe tbody tr th {\n",
              "        vertical-align: top;\n",
              "    }\n",
              "\n",
              "    .dataframe thead th {\n",
              "        text-align: right;\n",
              "    }\n",
              "</style>\n",
              "<table border=\"1\" class=\"dataframe\">\n",
              "  <thead>\n",
              "    <tr style=\"text-align: right;\">\n",
              "      <th></th>\n",
              "      <th>title</th>\n",
              "      <th>beds</th>\n",
              "      <th>bath</th>\n",
              "      <th>area</th>\n",
              "      <th>adress</th>\n",
              "      <th>type</th>\n",
              "      <th>purpose</th>\n",
              "      <th>flooPlan</th>\n",
              "      <th>url</th>\n",
              "      <th>lastUpdated</th>\n",
              "      <th>price</th>\n",
              "    </tr>\n",
              "  </thead>\n",
              "  <tbody>\n",
              "    <tr>\n",
              "      <th>0</th>\n",
              "      <td>7409</td>\n",
              "      <td>8</td>\n",
              "      <td>3</td>\n",
              "      <td>43</td>\n",
              "      <td>513</td>\n",
              "      <td>0</td>\n",
              "      <td>0</td>\n",
              "      <td>792</td>\n",
              "      <td>7187</td>\n",
              "      <td>303</td>\n",
              "      <td>95</td>\n",
              "    </tr>\n",
              "    <tr>\n",
              "      <th>1</th>\n",
              "      <td>7678</td>\n",
              "      <td>10</td>\n",
              "      <td>3</td>\n",
              "      <td>43</td>\n",
              "      <td>424</td>\n",
              "      <td>0</td>\n",
              "      <td>0</td>\n",
              "      <td>0</td>\n",
              "      <td>792</td>\n",
              "      <td>94</td>\n",
              "      <td>73</td>\n",
              "    </tr>\n",
              "    <tr>\n",
              "      <th>2</th>\n",
              "      <td>517</td>\n",
              "      <td>8</td>\n",
              "      <td>3</td>\n",
              "      <td>66</td>\n",
              "      <td>213</td>\n",
              "      <td>0</td>\n",
              "      <td>0</td>\n",
              "      <td>768</td>\n",
              "      <td>667</td>\n",
              "      <td>284</td>\n",
              "      <td>101</td>\n",
              "    </tr>\n",
              "    <tr>\n",
              "      <th>3</th>\n",
              "      <td>3</td>\n",
              "      <td>8</td>\n",
              "      <td>3</td>\n",
              "      <td>66</td>\n",
              "      <td>213</td>\n",
              "      <td>0</td>\n",
              "      <td>0</td>\n",
              "      <td>764</td>\n",
              "      <td>314</td>\n",
              "      <td>284</td>\n",
              "      <td>101</td>\n",
              "    </tr>\n",
              "    <tr>\n",
              "      <th>4</th>\n",
              "      <td>2748</td>\n",
              "      <td>8</td>\n",
              "      <td>3</td>\n",
              "      <td>43</td>\n",
              "      <td>588</td>\n",
              "      <td>0</td>\n",
              "      <td>0</td>\n",
              "      <td>588</td>\n",
              "      <td>1392</td>\n",
              "      <td>394</td>\n",
              "      <td>95</td>\n",
              "    </tr>\n",
              "  </tbody>\n",
              "</table>\n",
              "</div>\n",
              "      <button class=\"colab-df-convert\" onclick=\"convertToInteractive('df-8d69fda1-1ca3-4035-982f-d739a5a5d00d')\"\n",
              "              title=\"Convert this dataframe to an interactive table.\"\n",
              "              style=\"display:none;\">\n",
              "        \n",
              "  <svg xmlns=\"http://www.w3.org/2000/svg\" height=\"24px\"viewBox=\"0 0 24 24\"\n",
              "       width=\"24px\">\n",
              "    <path d=\"M0 0h24v24H0V0z\" fill=\"none\"/>\n",
              "    <path d=\"M18.56 5.44l.94 2.06.94-2.06 2.06-.94-2.06-.94-.94-2.06-.94 2.06-2.06.94zm-11 1L8.5 8.5l.94-2.06 2.06-.94-2.06-.94L8.5 2.5l-.94 2.06-2.06.94zm10 10l.94 2.06.94-2.06 2.06-.94-2.06-.94-.94-2.06-.94 2.06-2.06.94z\"/><path d=\"M17.41 7.96l-1.37-1.37c-.4-.4-.92-.59-1.43-.59-.52 0-1.04.2-1.43.59L10.3 9.45l-7.72 7.72c-.78.78-.78 2.05 0 2.83L4 21.41c.39.39.9.59 1.41.59.51 0 1.02-.2 1.41-.59l7.78-7.78 2.81-2.81c.8-.78.8-2.07 0-2.86zM5.41 20L4 18.59l7.72-7.72 1.47 1.35L5.41 20z\"/>\n",
              "  </svg>\n",
              "      </button>\n",
              "      \n",
              "  <style>\n",
              "    .colab-df-container {\n",
              "      display:flex;\n",
              "      flex-wrap:wrap;\n",
              "      gap: 12px;\n",
              "    }\n",
              "\n",
              "    .colab-df-convert {\n",
              "      background-color: #E8F0FE;\n",
              "      border: none;\n",
              "      border-radius: 50%;\n",
              "      cursor: pointer;\n",
              "      display: none;\n",
              "      fill: #1967D2;\n",
              "      height: 32px;\n",
              "      padding: 0 0 0 0;\n",
              "      width: 32px;\n",
              "    }\n",
              "\n",
              "    .colab-df-convert:hover {\n",
              "      background-color: #E2EBFA;\n",
              "      box-shadow: 0px 1px 2px rgba(60, 64, 67, 0.3), 0px 1px 3px 1px rgba(60, 64, 67, 0.15);\n",
              "      fill: #174EA6;\n",
              "    }\n",
              "\n",
              "    [theme=dark] .colab-df-convert {\n",
              "      background-color: #3B4455;\n",
              "      fill: #D2E3FC;\n",
              "    }\n",
              "\n",
              "    [theme=dark] .colab-df-convert:hover {\n",
              "      background-color: #434B5C;\n",
              "      box-shadow: 0px 1px 3px 1px rgba(0, 0, 0, 0.15);\n",
              "      filter: drop-shadow(0px 1px 2px rgba(0, 0, 0, 0.3));\n",
              "      fill: #FFFFFF;\n",
              "    }\n",
              "  </style>\n",
              "\n",
              "      <script>\n",
              "        const buttonEl =\n",
              "          document.querySelector('#df-8d69fda1-1ca3-4035-982f-d739a5a5d00d button.colab-df-convert');\n",
              "        buttonEl.style.display =\n",
              "          google.colab.kernel.accessAllowed ? 'block' : 'none';\n",
              "\n",
              "        async function convertToInteractive(key) {\n",
              "          const element = document.querySelector('#df-8d69fda1-1ca3-4035-982f-d739a5a5d00d');\n",
              "          const dataTable =\n",
              "            await google.colab.kernel.invokeFunction('convertToInteractive',\n",
              "                                                     [key], {});\n",
              "          if (!dataTable) return;\n",
              "\n",
              "          const docLinkHtml = 'Like what you see? Visit the ' +\n",
              "            '<a target=\"_blank\" href=https://colab.research.google.com/notebooks/data_table.ipynb>data table notebook</a>'\n",
              "            + ' to learn more about interactive tables.';\n",
              "          element.innerHTML = '';\n",
              "          dataTable['output_type'] = 'display_data';\n",
              "          await google.colab.output.renderOutput(dataTable, element);\n",
              "          const docLink = document.createElement('div');\n",
              "          docLink.innerHTML = docLinkHtml;\n",
              "          element.appendChild(docLink);\n",
              "        }\n",
              "      </script>\n",
              "    </div>\n",
              "  </div>\n",
              "  "
            ]
          },
          "metadata": {},
          "execution_count": 45
        }
      ]
    },
    {
      "cell_type": "code",
      "source": [
        "x=df.drop(columns='price',axis=1)"
      ],
      "metadata": {
        "id": "EPu4LuUANpbe"
      },
      "execution_count": 48,
      "outputs": []
    },
    {
      "cell_type": "code",
      "source": [
        "y=df['price']"
      ],
      "metadata": {
        "id": "75w3hUJFN48o"
      },
      "execution_count": 49,
      "outputs": []
    },
    {
      "cell_type": "code",
      "source": [
        "from sklearn.model_selection import train_test_split"
      ],
      "metadata": {
        "id": "Z-2rWh8IOYT7"
      },
      "execution_count": 50,
      "outputs": []
    },
    {
      "cell_type": "code",
      "source": [
        "X_train, X_test, y_train, y_test = train_test_split(x, y, test_size=0.2, random_state=42)"
      ],
      "metadata": {
        "id": "aKlmhA5BOCbd"
      },
      "execution_count": 51,
      "outputs": []
    },
    {
      "cell_type": "code",
      "source": [
        "from sklearn.ensemble import RandomForestClassifier\n",
        "from sklearn.metrics import accuracy_score"
      ],
      "metadata": {
        "id": "cSxOnrEiOg7t"
      },
      "execution_count": 52,
      "outputs": []
    },
    {
      "cell_type": "code",
      "source": [
        "# Initialize the random forest classifier\n",
        "clf = RandomForestClassifier(n_estimators=100, random_state=42)\n",
        "\n",
        "# Fit the classifier on the training data\n",
        "clf.fit(X_train, y_train)\n",
        "\n",
        "# Predict the target values for the testing data\n",
        "y_pred = clf.predict(X_test)\n",
        "\n",
        "# Evaluate the accuracy of the model on the testing data\n",
        "accuracy = accuracy_score(y_test, y_pred)\n",
        "print(\"Accuracy:\", accuracy)"
      ],
      "metadata": {
        "colab": {
          "base_uri": "https://localhost:8080/"
        },
        "id": "z1nzyxjPOtiZ",
        "outputId": "5f5793b8-981a-4a24-b97c-672d394c5ebe"
      },
      "execution_count": 54,
      "outputs": [
        {
          "output_type": "stream",
          "name": "stdout",
          "text": [
            "Accuracy: 0.2923447860156721\n"
          ]
        }
      ]
    },
    {
      "cell_type": "code",
      "source": [
        "from sklearn.linear_model import LinearRegression\n",
        "from sklearn.metrics import mean_squared_error"
      ],
      "metadata": {
        "id": "6ACy6UqQO6ee"
      },
      "execution_count": 55,
      "outputs": []
    },
    {
      "cell_type": "code",
      "source": [
        "# Initialize the linear regression model\n",
        "reg = LinearRegression()\n",
        "\n",
        "# Fit the model on the training data\n",
        "reg.fit(X_train, y_train)\n",
        "\n",
        "# Predict the target values for the testing data\n",
        "y_pred = reg.predict(X_test)\n",
        "\n",
        "# Evaluate the mean squared error of the model on the testing data\n",
        "mse = mean_squared_error(y_test, y_pred)\n",
        "print(\"Mean Squared Error:\", mse)"
      ],
      "metadata": {
        "colab": {
          "base_uri": "https://localhost:8080/"
        },
        "id": "ITjKKeqrPLlo",
        "outputId": "82a13bda-bbfb-4e0e-8287-323b375bb318"
      },
      "execution_count": 56,
      "outputs": [
        {
          "output_type": "stream",
          "name": "stdout",
          "text": [
            "Mean Squared Error: 891.1663880652789\n"
          ]
        }
      ]
    },
    {
      "cell_type": "code",
      "source": [
        "from sklearn.linear_model import Lasso"
      ],
      "metadata": {
        "id": "fCIcTAlrPTMW"
      },
      "execution_count": 57,
      "outputs": []
    },
    {
      "cell_type": "code",
      "source": [
        "# Initialize the lasso regression model\n",
        "reg = Lasso(alpha=0.1)\n",
        "\n",
        "# Fit the model on the training data\n",
        "reg.fit(X_train, y_train)\n",
        "\n",
        "# Predict the target values for the testing data\n",
        "y_pred = reg.predict(X_test)\n",
        "\n",
        "# Evaluate the mean squared error of the model on the testing data\n",
        "mse = mean_squared_error(y_test, y_pred)\n",
        "\n",
        "# Calculate the root mean squared error\n",
        "rmse = np.sqrt(mse)\n",
        "print(\"Root Mean Squared Error:\", rmse)"
      ],
      "metadata": {
        "colab": {
          "base_uri": "https://localhost:8080/"
        },
        "id": "xS86-CwpP6oN",
        "outputId": "3685519d-f8d0-4a10-a7f3-62d6810de68a"
      },
      "execution_count": 58,
      "outputs": [
        {
          "output_type": "stream",
          "name": "stdout",
          "text": [
            "Root Mean Squared Error: 29.848782649937263\n"
          ]
        }
      ]
    },
    {
      "cell_type": "code",
      "source": [
        "from sklearn.linear_model import Ridge"
      ],
      "metadata": {
        "id": "EqLWDWtVP93v"
      },
      "execution_count": 59,
      "outputs": []
    },
    {
      "cell_type": "code",
      "source": [
        "# Initialize the ridge regression model\n",
        "reg = Ridge(alpha=0.1)\n",
        "\n",
        "# Fit the model on the training data\n",
        "reg.fit(X_train, y_train)\n",
        "\n",
        "# Predict the target values for the testing data\n",
        "y_pred = reg.predict(X_test)\n",
        "\n",
        "# Evaluate the mean squared error of the model on the testing data\n",
        "mse = mean_squared_error(y_test, y_pred)\n",
        "\n",
        "# Calculate the root mean squared error\n",
        "rmse = np.sqrt(mse)\n",
        "print(\"Root Mean Squared Error:\", rmse)"
      ],
      "metadata": {
        "colab": {
          "base_uri": "https://localhost:8080/"
        },
        "id": "y7JzYjzpQQtX",
        "outputId": "ee4ec7b6-f196-4be1-de5d-43a2f953764f"
      },
      "execution_count": 60,
      "outputs": [
        {
          "output_type": "stream",
          "name": "stdout",
          "text": [
            "Root Mean Squared Error: 29.852406165905734\n"
          ]
        }
      ]
    },
    {
      "cell_type": "code",
      "source": [
        "from sklearn.tree import DecisionTreeRegressor"
      ],
      "metadata": {
        "id": "9rthPzVdQUCm"
      },
      "execution_count": 61,
      "outputs": []
    },
    {
      "cell_type": "code",
      "source": [
        "# Initialize the decision tree regressor\n",
        "reg = DecisionTreeRegressor()\n",
        "\n",
        "# Fit the model on the training data\n",
        "reg.fit(X_train, y_train)\n",
        "\n",
        "# Predict the target values for the testing data\n",
        "y_pred = reg.predict(X_test)\n",
        "\n",
        "# Evaluate the mean squared error of the model on the testing data\n",
        "mse = mean_squared_error(y_test, y_pred)\n",
        "\n",
        "# Calculate the root mean squared error\n",
        "rmse = np.sqrt(mse)\n",
        "print(\"Root Mean Squared Error:\", rmse)"
      ],
      "metadata": {
        "colab": {
          "base_uri": "https://localhost:8080/"
        },
        "id": "DtZ2T28IQftD",
        "outputId": "e1411fb6-cbfa-44d5-fb5d-adee01cf4891"
      },
      "execution_count": 62,
      "outputs": [
        {
          "output_type": "stream",
          "name": "stdout",
          "text": [
            "Root Mean Squared Error: 34.25087389935034\n"
          ]
        }
      ]
    },
    {
      "cell_type": "code",
      "source": [
        "from sklearn.ensemble import RandomForestRegressor"
      ],
      "metadata": {
        "id": "vLm2tEpdQogC"
      },
      "execution_count": 63,
      "outputs": []
    },
    {
      "cell_type": "code",
      "source": [
        "# Initialize the random forest regressor\n",
        "reg = RandomForestRegressor()\n",
        "\n",
        "# Fit the model on the training data\n",
        "reg.fit(X_train, y_train)\n",
        "\n",
        "# Predict the target values for the testing data\n",
        "y_pred = reg.predict(X_test)\n",
        "\n",
        "# Evaluate the mean squared error of the model on the testing data\n",
        "mse = mean_squared_error(y_test, y_pred)\n",
        "\n",
        "# Calculate the root mean squared error\n",
        "rmse = np.sqrt(mse)\n",
        "print(\"Root Mean Squared Error:\", rmse)"
      ],
      "metadata": {
        "colab": {
          "base_uri": "https://localhost:8080/"
        },
        "id": "xWSNR6pvQzsH",
        "outputId": "47636c53-a9cb-43be-b872-10cd13944010"
      },
      "execution_count": 64,
      "outputs": [
        {
          "output_type": "stream",
          "name": "stdout",
          "text": [
            "Root Mean Squared Error: 24.47544821038948\n"
          ]
        }
      ]
    },
    {
      "cell_type": "code",
      "source": [
        "from sklearn.svm import SVR"
      ],
      "metadata": {
        "id": "n_CatghgQ8bt"
      },
      "execution_count": 65,
      "outputs": []
    },
    {
      "cell_type": "code",
      "source": [
        "# Initialize the SVM regressor\n",
        "reg = SVR()\n",
        "\n",
        "# Fit the model on the training data\n",
        "reg.fit(X_train, y_train)\n",
        "\n",
        "# Predict the target values for the testing data\n",
        "y_pred = reg.predict(X_test)\n",
        "\n",
        "# Evaluate the mean squared error of the model on the testing data\n",
        "mse = mean_squared_error(y_test, y_pred)\n",
        "\n",
        "# Calculate the root mean squared error\n",
        "rmse = np.sqrt(mse)\n",
        "print(\"Root Mean Squared Error:\", rmse)"
      ],
      "metadata": {
        "colab": {
          "base_uri": "https://localhost:8080/"
        },
        "id": "OmJ39OvkROgJ",
        "outputId": "5a6786c1-5c78-4a32-856d-f6cb5b02e2aa"
      },
      "execution_count": 66,
      "outputs": [
        {
          "output_type": "stream",
          "name": "stdout",
          "text": [
            "Root Mean Squared Error: 35.35926380207505\n"
          ]
        }
      ]
    },
    {
      "cell_type": "code",
      "source": [
        "from sklearn.linear_model import ElasticNet"
      ],
      "metadata": {
        "id": "S5M6A3PJRR7e"
      },
      "execution_count": 67,
      "outputs": []
    },
    {
      "cell_type": "code",
      "source": [
        "# Initialize the ElasticNet regressor\n",
        "reg = ElasticNet(alpha=0.1, l1_ratio=0.5)\n",
        "\n",
        "# Fit the model on the training data\n",
        "reg.fit(X_train, y_train)\n",
        "\n",
        "# Predict the target values for the testing data\n",
        "y_pred = reg.predict(X_test)\n",
        "\n",
        "# Evaluate the mean squared error of the model on the testing data\n",
        "mse = mean_squared_error(y_test, y_pred)\n",
        "\n",
        "# Calculate the root mean squared error\n",
        "rmse = np.sqrt(mse)\n",
        "print(\"Root Mean Squared Error:\", rmse)"
      ],
      "metadata": {
        "colab": {
          "base_uri": "https://localhost:8080/"
        },
        "id": "Q_SQuyPSRfE4",
        "outputId": "7376ad3f-f81d-4d26-b4c5-f02b8ff8e3bf"
      },
      "execution_count": 68,
      "outputs": [
        {
          "output_type": "stream",
          "name": "stdout",
          "text": [
            "Root Mean Squared Error: 29.84835304370706\n"
          ]
        }
      ]
    },
    {
      "cell_type": "code",
      "source": [
        "from sklearn.preprocessing import PolynomialFeatures"
      ],
      "metadata": {
        "id": "bafdlHNjRnyH"
      },
      "execution_count": 69,
      "outputs": []
    },
    {
      "cell_type": "code",
      "source": [
        "# Transform the features into polynomial features\n",
        "poly = PolynomialFeatures(degree=2)\n",
        "X_train_poly = poly.fit_transform(X_train)\n",
        "X_test_poly = poly.transform(X_test)\n",
        "\n",
        "# Initialize the linear regression model\n",
        "reg = LinearRegression()\n",
        "\n",
        "# Fit the model on the polynomial features of the training data\n",
        "reg.fit(X_train_poly, y_train)\n",
        "\n",
        "# Predict the target values for the polynomial features of the testing data\n",
        "y_pred = reg.predict(X_test_poly)\n",
        "\n",
        "# Evaluate the mean squared error of the model on the testing data\n",
        "mse = mean_squared_error(y_test, y_pred)\n",
        "\n",
        "# Calculate the root mean squared error\n",
        "rmse = np.sqrt(mse)\n",
        "print(\"Root Mean Squared Error:\", rmse)"
      ],
      "metadata": {
        "colab": {
          "base_uri": "https://localhost:8080/"
        },
        "id": "O0U_NisFRx3G",
        "outputId": "0968d632-741a-48aa-b58d-2931ba8557a8"
      },
      "execution_count": 70,
      "outputs": [
        {
          "output_type": "stream",
          "name": "stdout",
          "text": [
            "Root Mean Squared Error: 28.68740337602279\n"
          ]
        }
      ]
    },
    {
      "cell_type": "code",
      "source": [
        "from sklearn.ensemble import GradientBoostingRegressor"
      ],
      "metadata": {
        "id": "w9paR5ZVR-VM"
      },
      "execution_count": 71,
      "outputs": []
    },
    {
      "cell_type": "code",
      "source": [
        "# Initialize the Gradient Boosting Regressor model\n",
        "reg = GradientBoostingRegressor()\n",
        "\n",
        "# Fit the model on the training data\n",
        "reg.fit(X_train, y_train)\n",
        "\n",
        "# Predict the target values for the testing data\n",
        "y_pred = reg.predict(X_test)\n",
        "\n",
        "# Evaluate the mean squared error of the model on the testing data\n",
        "mse = mean_squared_error(y_test, y_pred)\n",
        "\n",
        "# Calculate the root mean squared error\n",
        "rmse = np.sqrt(mse)\n",
        "print(\"Root Mean Squared Error:\", rmse)"
      ],
      "metadata": {
        "colab": {
          "base_uri": "https://localhost:8080/"
        },
        "id": "rX6UXIcfSetB",
        "outputId": "72ddf7bd-0532-48ad-fdc5-a3bd780b8a19"
      },
      "execution_count": 72,
      "outputs": [
        {
          "output_type": "stream",
          "name": "stdout",
          "text": [
            "Root Mean Squared Error: 25.87764543605035\n"
          ]
        }
      ]
    },
    {
      "cell_type": "code",
      "source": [
        "from sklearn.neighbors import KNeighborsRegressor"
      ],
      "metadata": {
        "id": "7c8hlclwShLc"
      },
      "execution_count": 73,
      "outputs": []
    },
    {
      "cell_type": "code",
      "source": [
        "# Initialize the KNN regressor model\n",
        "knn_reg = KNeighborsRegressor(n_neighbors=5)\n",
        "\n",
        "# Fit the model on the training data\n",
        "knn_reg.fit(X_train, y_train)\n",
        "\n",
        "# Predict the target values for the testing data\n",
        "y_pred = knn_reg.predict(X_test)\n",
        "\n",
        "# Evaluate the performance of the model on the testing data\n",
        "mse = mean_squared_error(y_test, y_pred)\n",
        "print(\"Mean Squared Error:\", mse)"
      ],
      "metadata": {
        "colab": {
          "base_uri": "https://localhost:8080/"
        },
        "id": "jt8-Kn-DS-BQ",
        "outputId": "afbf004d-4255-44cb-9995-9fa318cf8180"
      },
      "execution_count": 74,
      "outputs": [
        {
          "output_type": "stream",
          "name": "stdout",
          "text": [
            "Mean Squared Error: 1218.8666666666668\n"
          ]
        }
      ]
    },
    {
      "cell_type": "code",
      "source": [],
      "metadata": {
        "id": "Ro8BAivxTPmc"
      },
      "execution_count": null,
      "outputs": []
    }
  ]
}